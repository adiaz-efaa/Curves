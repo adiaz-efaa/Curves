{
 "cells": [
  {
   "cell_type": "markdown",
   "metadata": {},
   "source": [
    "# Test Autograd"
   ]
  },
  {
   "cell_type": "markdown",
   "metadata": {},
   "source": [
    "## Librerías"
   ]
  },
  {
   "cell_type": "code",
   "execution_count": 9,
   "metadata": {
    "ExecuteTime": {
     "end_time": "2020-09-19T20:58:35.651778Z",
     "start_time": "2020-09-19T20:58:35.648626Z"
    }
   },
   "outputs": [],
   "source": [
    "import autograd.numpy as np\n",
    "from autograd import grad\n",
    "from functools import partial\n",
    "from bisect import bisect_right"
   ]
  },
  {
   "cell_type": "markdown",
   "metadata": {},
   "source": [
    "## First Try"
   ]
  },
  {
   "cell_type": "code",
   "execution_count": 10,
   "metadata": {
    "ExecuteTime": {
     "end_time": "2020-09-19T20:58:35.659109Z",
     "start_time": "2020-09-19T20:58:35.655982Z"
    }
   },
   "outputs": [],
   "source": [
    "def present_value(cashflows: np.array, dfs: np.array) -> float:\n",
    "    return np.dot(cashflows, dfs)"
   ]
  },
  {
   "cell_type": "code",
   "execution_count": 11,
   "metadata": {
    "ExecuteTime": {
     "end_time": "2020-09-19T20:58:35.666242Z",
     "start_time": "2020-09-19T20:58:35.663335Z"
    }
   },
   "outputs": [],
   "source": [
    "grad_pv = grad(present_value, argnum=0)"
   ]
  },
  {
   "cell_type": "code",
   "execution_count": 12,
   "metadata": {
    "ExecuteTime": {
     "end_time": "2020-09-19T20:58:35.676821Z",
     "start_time": "2020-09-19T20:58:35.669587Z"
    }
   },
   "outputs": [
    {
     "data": {
      "text/plain": [
       "array([0.95238095, 0.90909091])"
      ]
     },
     "execution_count": 12,
     "metadata": {},
     "output_type": "execute_result"
    }
   ],
   "source": [
    "valor_tasa = .1\n",
    "\n",
    "grad_pv(np.array([5.0, 100.0]), np.array([(1+valor_tasa/2)**-1, (1+valor_tasa)**-1]))"
   ]
  },
  {
   "cell_type": "code",
   "execution_count": 13,
   "metadata": {
    "ExecuteTime": {
     "end_time": "2020-09-19T20:58:35.682121Z",
     "start_time": "2020-09-19T20:58:35.678484Z"
    }
   },
   "outputs": [
    {
     "data": {
      "text/plain": [
       "0.9523809523809523"
      ]
     },
     "execution_count": 13,
     "metadata": {},
     "output_type": "execute_result"
    }
   ],
   "source": [
    "(1+valor_tasa/2)**-1"
   ]
  },
  {
   "cell_type": "code",
   "execution_count": 14,
   "metadata": {
    "ExecuteTime": {
     "end_time": "2020-09-19T20:58:35.688951Z",
     "start_time": "2020-09-19T20:58:35.684296Z"
    }
   },
   "outputs": [
    {
     "data": {
      "text/plain": [
       "95.67099567099567"
      ]
     },
     "execution_count": 14,
     "metadata": {},
     "output_type": "execute_result"
    }
   ],
   "source": [
    "present_value(np.array([5, 100]), np.array(\n",
    "    [(1+valor_tasa/2)**-1, (1+valor_tasa)**-1]))"
   ]
  },
  {
   "cell_type": "code",
   "execution_count": 15,
   "metadata": {
    "ExecuteTime": {
     "end_time": "2020-09-19T20:58:35.693899Z",
     "start_time": "2020-09-19T20:58:35.691122Z"
    }
   },
   "outputs": [],
   "source": [
    "pv = partial(present_value, np.array([5.0, 100.0]))"
   ]
  },
  {
   "cell_type": "code",
   "execution_count": 16,
   "metadata": {
    "ExecuteTime": {
     "end_time": "2020-09-19T20:58:35.700387Z",
     "start_time": "2020-09-19T20:58:35.697953Z"
    }
   },
   "outputs": [],
   "source": [
    "grad_pv2 = grad(pv)"
   ]
  },
  {
   "cell_type": "code",
   "execution_count": 17,
   "metadata": {
    "ExecuteTime": {
     "end_time": "2020-09-19T20:58:35.706936Z",
     "start_time": "2020-09-19T20:58:35.702541Z"
    }
   },
   "outputs": [
    {
     "data": {
      "text/plain": [
       "95.67099567099567"
      ]
     },
     "execution_count": 17,
     "metadata": {},
     "output_type": "execute_result"
    }
   ],
   "source": [
    "pv(np.array([(1+valor_tasa/2)**-1, (1+valor_tasa)**-1]))"
   ]
  },
  {
   "cell_type": "code",
   "execution_count": 18,
   "metadata": {
    "ExecuteTime": {
     "end_time": "2020-09-19T20:58:35.713763Z",
     "start_time": "2020-09-19T20:58:35.708814Z"
    }
   },
   "outputs": [
    {
     "data": {
      "text/plain": [
       "array([  5., 100.])"
      ]
     },
     "execution_count": 18,
     "metadata": {},
     "output_type": "execute_result"
    }
   ],
   "source": [
    "grad_pv2(np.array([(1+valor_tasa/2)**-1, (1+valor_tasa)**-1]))"
   ]
  },
  {
   "cell_type": "code",
   "execution_count": 19,
   "metadata": {
    "ExecuteTime": {
     "end_time": "2020-09-19T20:58:35.717929Z",
     "start_time": "2020-09-19T20:58:35.715435Z"
    }
   },
   "outputs": [],
   "source": [
    "def two(x, y):\n",
    "    return x*y"
   ]
  },
  {
   "cell_type": "code",
   "execution_count": 20,
   "metadata": {
    "ExecuteTime": {
     "end_time": "2020-09-19T20:58:35.722647Z",
     "start_time": "2020-09-19T20:58:35.720052Z"
    }
   },
   "outputs": [],
   "source": [
    "grad_two = grad(two)"
   ]
  },
  {
   "cell_type": "code",
   "execution_count": 21,
   "metadata": {
    "ExecuteTime": {
     "end_time": "2020-09-19T20:58:35.728379Z",
     "start_time": "2020-09-19T20:58:35.724434Z"
    }
   },
   "outputs": [
    {
     "data": {
      "text/plain": [
       "2.0"
      ]
     },
     "execution_count": 21,
     "metadata": {},
     "output_type": "execute_result"
    }
   ],
   "source": [
    "grad_two(1.0, 2.0)"
   ]
  },
  {
   "cell_type": "markdown",
   "metadata": {},
   "source": [
    "## Más Estrucuturado"
   ]
  },
  {
   "cell_type": "code",
   "execution_count": 22,
   "metadata": {
    "ExecuteTime": {
     "end_time": "2020-09-19T20:58:35.732877Z",
     "start_time": "2020-09-19T20:58:35.730031Z"
    }
   },
   "outputs": [],
   "source": [
    "tenors = np.array([1.0, 365.0])\n",
    "rates = np.array([.05, .1])"
   ]
  },
  {
   "cell_type": "code",
   "execution_count": 23,
   "metadata": {
    "ExecuteTime": {
     "end_time": "2020-09-19T20:58:35.739637Z",
     "start_time": "2020-09-19T20:58:35.734670Z"
    }
   },
   "outputs": [],
   "source": [
    "def lin_interpol(tenors, rates, tenor):\n",
    "    if tenor >= tenors[len(tenors) - 1]:\n",
    "        return rates[len(tenors) - 1]\n",
    "    elif tenor <= tenors[0]:\n",
    "        return rates[0]\n",
    "    else:\n",
    "        i = bisect_right(tenors, tenor) - 1\n",
    "        m = (rates[i + 1] - rates[i]) / (tenors[i + 1] - tenors[i])\n",
    "        return rates[i] + m * (tenor - tenors[i])"
   ]
  },
  {
   "cell_type": "code",
   "execution_count": 24,
   "metadata": {
    "ExecuteTime": {
     "end_time": "2020-09-19T20:58:35.744068Z",
     "start_time": "2020-09-19T20:58:35.741403Z"
    }
   },
   "outputs": [],
   "source": [
    "def df(rate, tenor):\n",
    "    return (1 + rate)**(-tenor / 365.0) "
   ]
  },
  {
   "cell_type": "code",
   "execution_count": 25,
   "metadata": {
    "ExecuteTime": {
     "end_time": "2020-09-19T20:58:35.749134Z",
     "start_time": "2020-09-19T20:58:35.746002Z"
    }
   },
   "outputs": [],
   "source": [
    "def present_value(interp, disc, cashflow, tenor, tenors, rates):\n",
    "    rate = interp(tenors, rates, tenor)\n",
    "    return df(rate, tenor) * cashflow"
   ]
  },
  {
   "cell_type": "code",
   "execution_count": 26,
   "metadata": {
    "ExecuteTime": {
     "end_time": "2020-09-19T20:58:35.755173Z",
     "start_time": "2020-09-19T20:58:35.750950Z"
    }
   },
   "outputs": [
    {
     "data": {
      "text/plain": [
       "96.28621040299818"
      ]
     },
     "execution_count": 26,
     "metadata": {},
     "output_type": "execute_result"
    }
   ],
   "source": [
    "present_value(lin_interpol, df, 100.0, 189.0, tenors, rates)"
   ]
  },
  {
   "cell_type": "code",
   "execution_count": 27,
   "metadata": {
    "ExecuteTime": {
     "end_time": "2020-09-19T20:58:35.759643Z",
     "start_time": "2020-09-19T20:58:35.757115Z"
    }
   },
   "outputs": [],
   "source": [
    "drates = grad(present_value, argnum=5)"
   ]
  },
  {
   "cell_type": "code",
   "execution_count": 28,
   "metadata": {
    "ExecuteTime": {
     "end_time": "2020-09-19T20:58:35.766885Z",
     "start_time": "2020-09-19T20:58:35.761521Z"
    }
   },
   "outputs": [
    {
     "data": {
      "text/plain": [
       "array([-22.51132432, -21.78122732])"
      ]
     },
     "execution_count": 28,
     "metadata": {},
     "output_type": "execute_result"
    }
   ],
   "source": [
    "drates(lin_interpol, df, 100.0, 180.0, tenors, rates)"
   ]
  },
  {
   "cell_type": "code",
   "execution_count": 29,
   "metadata": {
    "ExecuteTime": {
     "end_time": "2020-09-19T20:58:35.772161Z",
     "start_time": "2020-09-19T20:58:35.768612Z"
    }
   },
   "outputs": [
    {
     "data": {
      "text/plain": [
       "40.0"
      ]
     },
     "execution_count": 29,
     "metadata": {},
     "output_type": "execute_result"
    }
   ],
   "source": [
    "10000*10*4*6/1000/60"
   ]
  },
  {
   "cell_type": "markdown",
   "metadata": {},
   "source": [
    "### Bootstrapping (1 Sólo Fujo)"
   ]
  },
  {
   "cell_type": "code",
   "execution_count": 30,
   "metadata": {
    "ExecuteTime": {
     "end_time": "2020-09-19T20:58:35.776316Z",
     "start_time": "2020-09-19T20:58:35.773840Z"
    }
   },
   "outputs": [],
   "source": [
    "cashflow = 107.5\n",
    "plazo = 365.0"
   ]
  },
  {
   "cell_type": "markdown",
   "metadata": {},
   "source": [
    "**Problema:** encontrar la tasa a 365 días que haga que el valor presente de este flujo sea igual a 100."
   ]
  },
  {
   "cell_type": "code",
   "execution_count": 31,
   "metadata": {
    "ExecuteTime": {
     "end_time": "2020-09-19T20:58:35.780669Z",
     "start_time": "2020-09-19T20:58:35.778186Z"
    }
   },
   "outputs": [],
   "source": [
    "pv = partial(present_value, lin_interpol, df)"
   ]
  },
  {
   "cell_type": "code",
   "execution_count": 32,
   "metadata": {
    "ExecuteTime": {
     "end_time": "2020-09-19T20:58:35.786173Z",
     "start_time": "2020-09-19T20:58:35.782613Z"
    }
   },
   "outputs": [
    {
     "data": {
      "text/plain": [
       "97.72727272727272"
      ]
     },
     "execution_count": 32,
     "metadata": {},
     "output_type": "execute_result"
    }
   ],
   "source": [
    "pv(cashflow, plazo, tenors, rates)"
   ]
  },
  {
   "cell_type": "code",
   "execution_count": 33,
   "metadata": {
    "ExecuteTime": {
     "end_time": "2020-09-19T20:58:35.790339Z",
     "start_time": "2020-09-19T20:58:35.787904Z"
    }
   },
   "outputs": [],
   "source": [
    "g = grad(pv, argnum=3)"
   ]
  },
  {
   "cell_type": "code",
   "execution_count": 34,
   "metadata": {
    "ExecuteTime": {
     "end_time": "2020-09-19T20:58:35.849165Z",
     "start_time": "2020-09-19T20:58:35.844155Z"
    }
   },
   "outputs": [
    {
     "data": {
      "text/plain": [
       "array([  0.        , -88.84297521])"
      ]
     },
     "execution_count": 34,
     "metadata": {},
     "output_type": "execute_result"
    }
   ],
   "source": [
    "g(cashflow, plazo, tenors, rates)"
   ]
  },
  {
   "cell_type": "code",
   "execution_count": 35,
   "metadata": {
    "ExecuteTime": {
     "end_time": "2020-09-19T20:58:35.855186Z",
     "start_time": "2020-09-19T20:58:35.852324Z"
    }
   },
   "outputs": [],
   "source": [
    "rates0 = np.array([.05, 0.0])"
   ]
  },
  {
   "cell_type": "code",
   "execution_count": 36,
   "metadata": {
    "ExecuteTime": {
     "end_time": "2020-09-19T20:58:35.863629Z",
     "start_time": "2020-09-19T20:58:35.857430Z"
    }
   },
   "outputs": [],
   "source": [
    "def solve(cashflow, tenor, obj, tenors, rates, pv):\n",
    "    epsilon = .000001\n",
    "    g = grad(pv, argnum=3)\n",
    "    rates_ = np.array([rates[0], rates[1]])\n",
    "    delta = 1\n",
    "    while delta > epsilon:\n",
    "        r1 = rates_[1] - (pv(cashflow, tenor, tenors, rates_) - obj) / g(cashflow, tenor, tenors, rates_)[1]\n",
    "        delta = abs(r1 - rates_[1])\n",
    "        if type(r1) is np.float64:\n",
    "            rates_[1] = r1\n",
    "        else:\n",
    "            rates_[1] = r1._value\n",
    "    return r1"
   ]
  },
  {
   "cell_type": "code",
   "execution_count": 37,
   "metadata": {
    "ExecuteTime": {
     "end_time": "2020-09-19T20:58:35.871510Z",
     "start_time": "2020-09-19T20:58:35.866148Z"
    }
   },
   "outputs": [
    {
     "data": {
      "text/plain": [
       "0.07500000000000007"
      ]
     },
     "execution_count": 37,
     "metadata": {},
     "output_type": "execute_result"
    }
   ],
   "source": [
    "solve(cashflow, plazo, 100.0, tenors, rates0, pv)"
   ]
  },
  {
   "cell_type": "code",
   "execution_count": 38,
   "metadata": {
    "ExecuteTime": {
     "end_time": "2020-09-19T20:58:35.877677Z",
     "start_time": "2020-09-19T20:58:35.874225Z"
    }
   },
   "outputs": [
    {
     "data": {
      "text/plain": [
       "array([0.05, 0.  ])"
      ]
     },
     "execution_count": 38,
     "metadata": {},
     "output_type": "execute_result"
    }
   ],
   "source": [
    "rates0"
   ]
  },
  {
   "cell_type": "code",
   "execution_count": 39,
   "metadata": {
    "ExecuteTime": {
     "end_time": "2020-09-19T20:58:35.882633Z",
     "start_time": "2020-09-19T20:58:35.880090Z"
    }
   },
   "outputs": [],
   "source": [
    "gsolve = grad(solve, argnum=0)"
   ]
  },
  {
   "cell_type": "code",
   "execution_count": 40,
   "metadata": {
    "ExecuteTime": {
     "end_time": "2020-09-19T20:58:35.904014Z",
     "start_time": "2020-09-19T20:58:35.884614Z"
    }
   },
   "outputs": [
    {
     "data": {
      "text/plain": [
       "0.009999999988773293"
      ]
     },
     "execution_count": 40,
     "metadata": {},
     "output_type": "execute_result"
    }
   ],
   "source": [
    "gsolve(cashflow, plazo, 100.0, tenors, rates0, pv)"
   ]
  },
  {
   "cell_type": "markdown",
   "metadata": {},
   "source": [
    "### Bootstrapping (Varios Flujos)"
   ]
  },
  {
   "cell_type": "code",
   "execution_count": 41,
   "metadata": {
    "ExecuteTime": {
     "end_time": "2020-09-19T20:58:35.908420Z",
     "start_time": "2020-09-19T20:58:35.905827Z"
    }
   },
   "outputs": [],
   "source": [
    "def kron(i, j):\n",
    "    return int(i == j)"
   ]
  },
  {
   "cell_type": "code",
   "execution_count": 42,
   "metadata": {
    "ExecuteTime": {
     "end_time": "2020-09-19T20:58:35.913429Z",
     "start_time": "2020-09-19T20:58:35.910251Z"
    }
   },
   "outputs": [],
   "source": [
    "def dfs(rates, tenors):\n",
    "    return np.array([df(z[0], z[1]) for z in zip(rates, tenors)])"
   ]
  },
  {
   "cell_type": "code",
   "execution_count": 43,
   "metadata": {
    "ExecuteTime": {
     "end_time": "2020-09-19T20:58:35.923463Z",
     "start_time": "2020-09-19T20:58:35.915192Z"
    }
   },
   "outputs": [
    {
     "data": {
      "text/plain": [
       "array([0.99997274, 0.93023256])"
      ]
     },
     "execution_count": 43,
     "metadata": {},
     "output_type": "execute_result"
    }
   ],
   "source": [
    "rates = np.array([.01, .075])\n",
    "dfs(rates, tenors)"
   ]
  },
  {
   "cell_type": "code",
   "execution_count": 44,
   "metadata": {
    "ExecuteTime": {
     "end_time": "2020-09-19T20:58:35.929816Z",
     "start_time": "2020-09-19T20:58:35.925711Z"
    }
   },
   "outputs": [],
   "source": [
    "def lin_interpols(tenors, rates, new_tenors):\n",
    "    return np.array([lin_interpol(tenors, rates, t) for t in new_tenors])"
   ]
  },
  {
   "cell_type": "code",
   "execution_count": 45,
   "metadata": {
    "ExecuteTime": {
     "end_time": "2020-09-19T20:58:35.937331Z",
     "start_time": "2020-09-19T20:58:35.932066Z"
    }
   },
   "outputs": [
    {
     "data": {
      "text/plain": [
       "array([0.02589286, 0.04196429, 0.05803571])"
      ]
     },
     "execution_count": 45,
     "metadata": {},
     "output_type": "execute_result"
    }
   ],
   "source": [
    "lin_interpols(tenors, rates, [90.0, 180.0, 270.0])"
   ]
  },
  {
   "cell_type": "code",
   "execution_count": 46,
   "metadata": {
    "ExecuteTime": {
     "end_time": "2020-09-19T20:58:35.944665Z",
     "start_time": "2020-09-19T20:58:35.939912Z"
    }
   },
   "outputs": [],
   "source": [
    "def fixed_rate_leg(nocional, tasa, num_cupones):\n",
    "    return np.array([.5 * 365.0 * i for i in range(1, num_cupones + 1)]), \\\n",
    "        np.array([nocional * (kron(i, num_cupones) + tasa / 2.0)\n",
    "                  for i in range(1, num_cupones + 1)])"
   ]
  },
  {
   "cell_type": "code",
   "execution_count": 47,
   "metadata": {
    "ExecuteTime": {
     "end_time": "2020-09-19T20:58:35.954834Z",
     "start_time": "2020-09-19T20:58:35.949521Z"
    }
   },
   "outputs": [
    {
     "data": {
      "text/plain": [
       "(array([182.5, 365. ]), array([  3., 103.]))"
      ]
     },
     "execution_count": 47,
     "metadata": {},
     "output_type": "execute_result"
    }
   ],
   "source": [
    "fixed_rate_leg(100, .06, 2)"
   ]
  },
  {
   "cell_type": "code",
   "execution_count": 48,
   "metadata": {
    "ExecuteTime": {
     "end_time": "2020-09-19T20:58:35.960645Z",
     "start_time": "2020-09-19T20:58:35.957073Z"
    }
   },
   "outputs": [],
   "source": [
    "def present_value_2(interp, disc, cashflows_tenors, cashflows, curve_tenors, curve_rates):\n",
    "    cashflow_rates = interp(curve_tenors, curve_rates, cashflows_tenors)\n",
    "    return np.dot(dfs(cashflow_rates, cashflows_tenors), cashflows)"
   ]
  },
  {
   "cell_type": "code",
   "execution_count": 49,
   "metadata": {
    "ExecuteTime": {
     "end_time": "2020-09-19T20:58:35.968189Z",
     "start_time": "2020-09-19T20:58:35.962604Z"
    }
   },
   "outputs": [
    {
     "data": {
      "text/plain": [
       "98.75229196044188"
      ]
     },
     "execution_count": 49,
     "metadata": {},
     "output_type": "execute_result"
    }
   ],
   "source": [
    "present_value_2(lin_interpols, dfs, fixed_rate_leg(100, .06, 2)[0],\n",
    "               fixed_rate_leg(100, .06, 2)[1], tenors, rates)"
   ]
  },
  {
   "cell_type": "code",
   "execution_count": 50,
   "metadata": {
    "ExecuteTime": {
     "end_time": "2020-09-19T20:58:35.973626Z",
     "start_time": "2020-09-19T20:58:35.970034Z"
    }
   },
   "outputs": [],
   "source": [
    "def pv_fixed_leg(interp, disc, nocional, tasa, num_cupones, curve_tenors, curve_rates):\n",
    "    plazos, flujos = fixed_rate_leg(nocional, tasa, num_cupones)\n",
    "    return present_value_2(interp, disc, plazos, flujos, curve_tenors, curve_rates)"
   ]
  },
  {
   "cell_type": "code",
   "execution_count": 51,
   "metadata": {
    "ExecuteTime": {
     "end_time": "2020-09-19T20:58:35.980964Z",
     "start_time": "2020-09-19T20:58:35.975684Z"
    }
   },
   "outputs": [
    {
     "data": {
      "text/plain": [
       "98.75229196044188"
      ]
     },
     "execution_count": 51,
     "metadata": {},
     "output_type": "execute_result"
    }
   ],
   "source": [
    "pv_fixed_leg(lin_interpols, dfs, 100.0, .06, 2, tenors, rates)"
   ]
  },
  {
   "cell_type": "code",
   "execution_count": 52,
   "metadata": {
    "ExecuteTime": {
     "end_time": "2020-09-19T20:58:35.985650Z",
     "start_time": "2020-09-19T20:58:35.982954Z"
    }
   },
   "outputs": [],
   "source": [
    "pv_2 = partial(pv_fixed_leg, lin_interpols, dfs)"
   ]
  },
  {
   "cell_type": "code",
   "execution_count": 53,
   "metadata": {
    "ExecuteTime": {
     "end_time": "2020-09-19T20:58:35.995792Z",
     "start_time": "2020-09-19T20:58:35.988725Z"
    }
   },
   "outputs": [
    {
     "data": {
      "text/plain": [
       "98.75229196044188"
      ]
     },
     "execution_count": 53,
     "metadata": {},
     "output_type": "execute_result"
    }
   ],
   "source": [
    "pv_2(100.0, .06, 2, tenors, rates)"
   ]
  },
  {
   "cell_type": "code",
   "execution_count": 54,
   "metadata": {
    "ExecuteTime": {
     "end_time": "2020-09-19T20:58:36.002940Z",
     "start_time": "2020-09-19T20:58:35.998756Z"
    }
   },
   "outputs": [],
   "source": [
    "gpvleg = grad(pv_2, argnum=1)"
   ]
  },
  {
   "cell_type": "code",
   "execution_count": 55,
   "metadata": {
    "ExecuteTime": {
     "end_time": "2020-09-19T20:58:36.013718Z",
     "start_time": "2020-09-19T20:58:36.006002Z"
    }
   },
   "outputs": [
    {
     "data": {
      "text/plain": [
       "95.4839357748065"
      ]
     },
     "execution_count": 55,
     "metadata": {},
     "output_type": "execute_result"
    }
   ],
   "source": [
    "gpvleg(100.0, .06, 2, tenors, rates)"
   ]
  },
  {
   "cell_type": "code",
   "execution_count": 56,
   "metadata": {
    "ExecuteTime": {
     "end_time": "2020-09-19T20:58:36.027618Z",
     "start_time": "2020-09-19T20:58:36.016456Z"
    }
   },
   "outputs": [],
   "source": [
    "def solve_2(nocional, tasa, num_cupones, obj, tenors, rates, pv):\n",
    "    epsilon = .000001\n",
    "    g = grad(pv, argnum=4)\n",
    "    rates_ = np.array([r for r in rates] + [0.0,])\n",
    "    print(rates_)\n",
    "    which = len(rates_) - 1\n",
    "    print(f'which: {which}')\n",
    "    delta = 1\n",
    "    while delta > epsilon:\n",
    "        q = (pv(nocional, tasa, num_cupones, tenors, rates_) - obj)\n",
    "        q /= g(nocional, tasa, num_cupones, tenors, rates_)[which]\n",
    "        r1 = rates_[which] - q\n",
    "        print(r1)\n",
    "        delta = abs(r1 - rates_[which])\n",
    "        print(f'delta: {delta}')\n",
    "        if type(r1) is np.float64:\n",
    "            rates_ = np.array([r for r in rates] + [r1,])\n",
    "        else:\n",
    "            rates_ = np.array([r for r in rates] + [r1._value,])\n",
    "    return r1"
   ]
  },
  {
   "cell_type": "code",
   "execution_count": 57,
   "metadata": {
    "ExecuteTime": {
     "end_time": "2020-09-19T20:58:36.032284Z",
     "start_time": "2020-09-19T20:58:36.029795Z"
    }
   },
   "outputs": [],
   "source": [
    "rates0 = np.array([.05,])"
   ]
  },
  {
   "cell_type": "code",
   "execution_count": 58,
   "metadata": {
    "ExecuteTime": {
     "end_time": "2020-09-19T20:58:36.046946Z",
     "start_time": "2020-09-19T20:58:36.034455Z"
    }
   },
   "outputs": [
    {
     "name": "stdout",
     "output_type": "stream",
     "text": [
      "[0.05 0.  ]\n",
      "which: 1\n",
      "0.057491813930758244\n",
      "delta: 0.057491813930758244\n",
      "0.06097025747500407\n",
      "delta: 0.0034784435442458267\n",
      "0.0609816831491982\n",
      "delta: 1.1425674194126545e-05\n",
      "0.06098168327166905\n",
      "delta: 1.2247085290351123e-10\n",
      "sol: 0.06098168327166905\n"
     ]
    }
   ],
   "source": [
    "r_sol = solve_2(100.0, .06, 2, 100.0, tenors, rates0, pv_2)\n",
    "print(f'sol: {r_sol}')"
   ]
  },
  {
   "cell_type": "code",
   "execution_count": 59,
   "metadata": {
    "ExecuteTime": {
     "end_time": "2020-09-19T20:58:36.055196Z",
     "start_time": "2020-09-19T20:58:36.049121Z"
    }
   },
   "outputs": [
    {
     "data": {
      "text/plain": [
       "100.00000000000003"
      ]
     },
     "execution_count": 59,
     "metadata": {},
     "output_type": "execute_result"
    }
   ],
   "source": [
    "rates_sol = np.array([rates0[0], r_sol])\n",
    "pv_2(100.0, .06, 2, tenors, rates_sol)"
   ]
  },
  {
   "cell_type": "code",
   "execution_count": 60,
   "metadata": {
    "ExecuteTime": {
     "end_time": "2020-09-19T20:58:36.060250Z",
     "start_time": "2020-09-19T20:58:36.057296Z"
    }
   },
   "outputs": [],
   "source": [
    "gs2 = grad(solve_2, argnum=1)"
   ]
  },
  {
   "cell_type": "code",
   "execution_count": 61,
   "metadata": {
    "ExecuteTime": {
     "end_time": "2020-09-19T20:58:36.085253Z",
     "start_time": "2020-09-19T20:58:36.062461Z"
    }
   },
   "outputs": [
    {
     "name": "stdout",
     "output_type": "stream",
     "text": [
      "[0.05 0.  ]\n",
      "which: 1\n",
      "Autograd ArrayBox with value 0.057491813930758244\n",
      "delta: Autograd ArrayBox with value 0.057491813930758244\n",
      "Autograd ArrayBox with value 0.06097025747500407\n",
      "delta: Autograd ArrayBox with value 0.0034784435442458267\n",
      "Autograd ArrayBox with value 0.0609816831491982\n",
      "delta: Autograd ArrayBox with value 1.1425674194126545e-05\n",
      "Autograd ArrayBox with value 0.06098168327166905\n",
      "delta: Autograd ArrayBox with value 1.2247085290351123e-10\n"
     ]
    },
    {
     "data": {
      "text/plain": [
       "1.0390997985892199"
      ]
     },
     "execution_count": 61,
     "metadata": {},
     "output_type": "execute_result"
    }
   ],
   "source": [
    "gs2(100.0, .06, 2, 100.0, tenors, rates0, pv_2)"
   ]
  },
  {
   "cell_type": "code",
   "execution_count": 62,
   "metadata": {
    "ExecuteTime": {
     "end_time": "2020-09-19T20:58:36.106806Z",
     "start_time": "2020-09-19T20:58:36.086978Z"
    }
   },
   "outputs": [
    {
     "name": "stdout",
     "output_type": "stream",
     "text": [
      "Autograd ArrayBox with value [0.05 0.  ]\n",
      "which: 1\n",
      "Autograd ArrayBox with value 0.057491813930758244\n",
      "delta: Autograd ArrayBox with value 0.057491813930758244\n",
      "Autograd ArrayBox with value 0.06097025747500407\n",
      "delta: Autograd ArrayBox with value 0.0034784435442458267\n",
      "Autograd ArrayBox with value 0.0609816831491982\n",
      "delta: Autograd ArrayBox with value 1.1425674194126545e-05\n",
      "Autograd ArrayBox with value 0.06098168327166905\n",
      "delta: Autograd ArrayBox with value 1.2247085290351123e-10\n"
     ]
    },
    {
     "data": {
      "text/plain": [
       "array([-0.00752311])"
      ]
     },
     "execution_count": 62,
     "metadata": {},
     "output_type": "execute_result"
    }
   ],
   "source": [
    "grad(solve_2, argnum=5)(100.0, .06, 2, 100.0, tenors, rates0, pv_2)"
   ]
  },
  {
   "cell_type": "code",
   "execution_count": 63,
   "metadata": {
    "ExecuteTime": {
     "end_time": "2020-09-19T20:58:36.111605Z",
     "start_time": "2020-09-19T20:58:36.108642Z"
    }
   },
   "outputs": [],
   "source": [
    "tenors0 = [1.0, 365.0, 730.0]\n",
    "rates0 = [0.05, r_sol]"
   ]
  },
  {
   "cell_type": "code",
   "execution_count": 64,
   "metadata": {
    "ExecuteTime": {
     "end_time": "2020-09-19T20:58:36.129947Z",
     "start_time": "2020-09-19T20:58:36.113528Z"
    }
   },
   "outputs": [
    {
     "name": "stdout",
     "output_type": "stream",
     "text": [
      "[0.05       0.06098168 0.        ]\n",
      "which: 2\n",
      "0.05760642144390602\n",
      "delta: 0.05760642144390602\n",
      "0.06303452556938739\n",
      "delta: 0.005428104125481371\n",
      "0.06307638835226625\n",
      "delta: 4.186278287886258e-05\n",
      "0.06307639080868392\n",
      "delta: 2.456417666496513e-09\n"
     ]
    },
    {
     "data": {
      "text/plain": [
       "0.06307639080868392"
      ]
     },
     "execution_count": 64,
     "metadata": {},
     "output_type": "execute_result"
    }
   ],
   "source": [
    "solve_2(100.0, .062, 4, 100.0, tenors0, rates0, pv_2)"
   ]
  },
  {
   "cell_type": "code",
   "execution_count": 65,
   "metadata": {
    "ExecuteTime": {
     "end_time": "2020-09-19T20:58:36.157895Z",
     "start_time": "2020-09-19T20:58:36.131719Z"
    }
   },
   "outputs": [
    {
     "name": "stdout",
     "output_type": "stream",
     "text": [
      "[0.05       0.06098168 0.        ]\n",
      "which: 2\n",
      "Autograd ArrayBox with value 0.05760642144390602\n",
      "delta: Autograd ArrayBox with value 0.05760642144390602\n",
      "Autograd ArrayBox with value 0.06303452556938739\n",
      "delta: Autograd ArrayBox with value 0.005428104125481371\n",
      "Autograd ArrayBox with value 0.06307638835226625\n",
      "delta: Autograd ArrayBox with value 4.186278287886258e-05\n",
      "Autograd ArrayBox with value 0.06307639080868392\n",
      "delta: Autograd ArrayBox with value 2.456417666496513e-09\n"
     ]
    },
    {
     "data": {
      "text/plain": [
       "1.0696313573198202"
      ]
     },
     "execution_count": 65,
     "metadata": {},
     "output_type": "execute_result"
    }
   ],
   "source": [
    "grad(solve_2, argnum=1)(100.0, .062, 4, 100.0, tenors0, rates0, pv_2)"
   ]
  }
 ],
 "metadata": {
  "kernelspec": {
   "display_name": "Python 3",
   "language": "python",
   "name": "python3"
  },
  "language_info": {
   "codemirror_mode": {
    "name": "ipython",
    "version": 3
   },
   "file_extension": ".py",
   "mimetype": "text/x-python",
   "name": "python",
   "nbconvert_exporter": "python",
   "pygments_lexer": "ipython3",
   "version": "3.7.3"
  },
  "toc": {
   "base_numbering": 1,
   "nav_menu": {},
   "number_sections": true,
   "sideBar": true,
   "skip_h1_title": true,
   "title_cell": "Table of Contents",
   "title_sidebar": "Contents",
   "toc_cell": false,
   "toc_position": {
    "height": "calc(100% - 180px)",
    "left": "10px",
    "top": "150px",
    "width": "197px"
   },
   "toc_section_display": true,
   "toc_window_display": true
  }
 },
 "nbformat": 4,
 "nbformat_minor": 4
}
