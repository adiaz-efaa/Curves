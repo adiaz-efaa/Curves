{
 "cells": [
  {
   "cell_type": "markdown",
   "metadata": {},
   "source": [
    "# Test Autograd"
   ]
  },
  {
   "cell_type": "markdown",
   "metadata": {},
   "source": [
    "## Librerías"
   ]
  },
  {
   "cell_type": "code",
   "execution_count": null,
   "metadata": {
    "ExecuteTime": {
     "start_time": "2020-09-19T18:52:22.202Z"
    }
   },
   "outputs": [],
   "source": [
    "import autograd.numpy as np  # Thinly-wrapped numpy\n",
    "from autograd import grad\n",
    "from functools import partial\n",
    "from bisect import bisect_right"
   ]
  },
  {
   "cell_type": "markdown",
   "metadata": {},
   "source": [
    "## First Try"
   ]
  },
  {
   "cell_type": "code",
   "execution_count": 2,
   "metadata": {
    "ExecuteTime": {
     "end_time": "2020-09-19T12:46:21.584760Z",
     "start_time": "2020-09-19T12:46:21.580834Z"
    }
   },
   "outputs": [],
   "source": [
    "def present_value(cashflows: np.array, dfs: np.array) -> float:\n",
    "    return np.dot(cashflows, dfs)"
   ]
  },
  {
   "cell_type": "code",
   "execution_count": 3,
   "metadata": {
    "ExecuteTime": {
     "end_time": "2020-09-19T12:46:21.590796Z",
     "start_time": "2020-09-19T12:46:21.587737Z"
    }
   },
   "outputs": [],
   "source": [
    "grad_pv = grad(present_value)"
   ]
  },
  {
   "cell_type": "code",
   "execution_count": 4,
   "metadata": {
    "ExecuteTime": {
     "end_time": "2020-09-19T12:46:21.611817Z",
     "start_time": "2020-09-19T12:46:21.594473Z"
    }
   },
   "outputs": [
    {
     "data": {
      "text/plain": [
       "array([0.95238095, 0.90909091])"
      ]
     },
     "execution_count": 4,
     "metadata": {},
     "output_type": "execute_result"
    }
   ],
   "source": [
    "valor_tasa = .1\n",
    "grad_pv(np.array([5.0, 100.0]), np.array(\n",
    "    [(1+valor_tasa/2)**-1, (1+valor_tasa)**-1]))"
   ]
  },
  {
   "cell_type": "code",
   "execution_count": 5,
   "metadata": {
    "ExecuteTime": {
     "end_time": "2020-09-19T12:46:21.619169Z",
     "start_time": "2020-09-19T12:46:21.614110Z"
    }
   },
   "outputs": [
    {
     "data": {
      "text/plain": [
       "0.9523809523809523"
      ]
     },
     "execution_count": 5,
     "metadata": {},
     "output_type": "execute_result"
    }
   ],
   "source": [
    "(1+valor_tasa/2)**-1"
   ]
  },
  {
   "cell_type": "code",
   "execution_count": 6,
   "metadata": {
    "ExecuteTime": {
     "end_time": "2020-09-19T12:46:21.630805Z",
     "start_time": "2020-09-19T12:46:21.622697Z"
    }
   },
   "outputs": [
    {
     "data": {
      "text/plain": [
       "95.67099567099567"
      ]
     },
     "execution_count": 6,
     "metadata": {},
     "output_type": "execute_result"
    }
   ],
   "source": [
    "present_value(np.array([5, 100]), np.array(\n",
    "    [(1+valor_tasa/2)**-1, (1+valor_tasa)**-1]))"
   ]
  },
  {
   "cell_type": "code",
   "execution_count": 7,
   "metadata": {
    "ExecuteTime": {
     "end_time": "2020-09-19T12:46:21.637694Z",
     "start_time": "2020-09-19T12:46:21.633994Z"
    }
   },
   "outputs": [],
   "source": [
    "pv = partial(present_value, np.array([5.0, 100.0]))"
   ]
  },
  {
   "cell_type": "code",
   "execution_count": 8,
   "metadata": {
    "ExecuteTime": {
     "end_time": "2020-09-19T12:46:21.644124Z",
     "start_time": "2020-09-19T12:46:21.640509Z"
    }
   },
   "outputs": [],
   "source": [
    "grad_pv2 = grad(pv)"
   ]
  },
  {
   "cell_type": "code",
   "execution_count": 9,
   "metadata": {
    "ExecuteTime": {
     "end_time": "2020-09-19T12:46:21.653940Z",
     "start_time": "2020-09-19T12:46:21.646424Z"
    }
   },
   "outputs": [
    {
     "data": {
      "text/plain": [
       "95.67099567099567"
      ]
     },
     "execution_count": 9,
     "metadata": {},
     "output_type": "execute_result"
    }
   ],
   "source": [
    "pv(np.array([(1+valor_tasa/2)**-1, (1+valor_tasa)**-1]))"
   ]
  },
  {
   "cell_type": "code",
   "execution_count": 10,
   "metadata": {
    "ExecuteTime": {
     "end_time": "2020-09-19T12:46:21.662411Z",
     "start_time": "2020-09-19T12:46:21.656092Z"
    }
   },
   "outputs": [
    {
     "data": {
      "text/plain": [
       "array([  5., 100.])"
      ]
     },
     "execution_count": 10,
     "metadata": {},
     "output_type": "execute_result"
    }
   ],
   "source": [
    "grad_pv2(np.array([(1+valor_tasa/2)**-1, (1+valor_tasa)**-1]))"
   ]
  },
  {
   "cell_type": "code",
   "execution_count": 11,
   "metadata": {
    "ExecuteTime": {
     "end_time": "2020-09-19T12:46:21.667555Z",
     "start_time": "2020-09-19T12:46:21.664613Z"
    }
   },
   "outputs": [],
   "source": [
    "def two(x, y):\n",
    "    return x*y"
   ]
  },
  {
   "cell_type": "code",
   "execution_count": 12,
   "metadata": {
    "ExecuteTime": {
     "end_time": "2020-09-19T12:46:21.672687Z",
     "start_time": "2020-09-19T12:46:21.669885Z"
    }
   },
   "outputs": [],
   "source": [
    "grad_two = grad(two)"
   ]
  },
  {
   "cell_type": "code",
   "execution_count": 13,
   "metadata": {
    "ExecuteTime": {
     "end_time": "2020-09-19T12:46:21.681927Z",
     "start_time": "2020-09-19T12:46:21.677074Z"
    }
   },
   "outputs": [
    {
     "data": {
      "text/plain": [
       "2.0"
      ]
     },
     "execution_count": 13,
     "metadata": {},
     "output_type": "execute_result"
    }
   ],
   "source": [
    "grad_two(1.0, 2.0)"
   ]
  },
  {
   "cell_type": "markdown",
   "metadata": {},
   "source": [
    "## Más Estrucuturado"
   ]
  },
  {
   "cell_type": "code",
   "execution_count": 14,
   "metadata": {
    "ExecuteTime": {
     "end_time": "2020-09-19T12:46:21.687320Z",
     "start_time": "2020-09-19T12:46:21.684103Z"
    }
   },
   "outputs": [],
   "source": [
    "tenors = np.array([1.0, 365.0])\n",
    "rates = np.array([.05, .1])"
   ]
  },
  {
   "cell_type": "code",
   "execution_count": 15,
   "metadata": {
    "ExecuteTime": {
     "end_time": "2020-09-19T12:46:21.694326Z",
     "start_time": "2020-09-19T12:46:21.689126Z"
    }
   },
   "outputs": [],
   "source": [
    "def lin_interpol(tenors, rates, tenor):\n",
    "    if tenor >= tenors[len(tenors) - 1]:\n",
    "        return rates[len(tenors) - 1]\n",
    "    elif tenor <= tenors[0]:\n",
    "        return rates[0]\n",
    "    else:\n",
    "        i = bisect_right(tenors, tenor) - 1\n",
    "        m = (rates[i + 1] - rates[i]) / (tenors[i + 1] - tenors[i])\n",
    "        return rates[i] + m * (tenor - tenors[i])"
   ]
  },
  {
   "cell_type": "code",
   "execution_count": 16,
   "metadata": {
    "ExecuteTime": {
     "end_time": "2020-09-19T12:46:21.699348Z",
     "start_time": "2020-09-19T12:46:21.696215Z"
    }
   },
   "outputs": [],
   "source": [
    "def df(rate, tenor):\n",
    "    return (1 + rate)**(-tenor / 365.0) "
   ]
  },
  {
   "cell_type": "code",
   "execution_count": 17,
   "metadata": {
    "ExecuteTime": {
     "end_time": "2020-09-19T12:46:21.705295Z",
     "start_time": "2020-09-19T12:46:21.701523Z"
    }
   },
   "outputs": [],
   "source": [
    "def present_value(interp, disc, cashflow, tenor, tenors, rates):\n",
    "    rate = interp(tenors, rates, tenor)\n",
    "    return df(rate, tenor) * cashflow"
   ]
  },
  {
   "cell_type": "code",
   "execution_count": 18,
   "metadata": {
    "ExecuteTime": {
     "end_time": "2020-09-19T12:46:21.712179Z",
     "start_time": "2020-09-19T12:46:21.707403Z"
    }
   },
   "outputs": [
    {
     "data": {
      "text/plain": [
       "96.28621040299818"
      ]
     },
     "execution_count": 18,
     "metadata": {},
     "output_type": "execute_result"
    }
   ],
   "source": [
    "present_value(lin_interpol, df, 100.0, 189.0, tenors, rates)"
   ]
  },
  {
   "cell_type": "code",
   "execution_count": 19,
   "metadata": {
    "ExecuteTime": {
     "end_time": "2020-09-19T12:46:21.716831Z",
     "start_time": "2020-09-19T12:46:21.713999Z"
    }
   },
   "outputs": [],
   "source": [
    "drates = grad(present_value, argnum=5)"
   ]
  },
  {
   "cell_type": "code",
   "execution_count": 20,
   "metadata": {
    "ExecuteTime": {
     "end_time": "2020-09-19T12:46:21.727011Z",
     "start_time": "2020-09-19T12:46:21.719328Z"
    }
   },
   "outputs": [
    {
     "data": {
      "text/plain": [
       "array([-22.51132432, -21.78122732])"
      ]
     },
     "execution_count": 20,
     "metadata": {},
     "output_type": "execute_result"
    }
   ],
   "source": [
    "drates(lin_interpol, df, 100.0, 180.0, tenors, rates)"
   ]
  },
  {
   "cell_type": "code",
   "execution_count": 21,
   "metadata": {
    "ExecuteTime": {
     "end_time": "2020-09-19T12:46:21.734954Z",
     "start_time": "2020-09-19T12:46:21.729461Z"
    }
   },
   "outputs": [
    {
     "data": {
      "text/plain": [
       "40.0"
      ]
     },
     "execution_count": 21,
     "metadata": {},
     "output_type": "execute_result"
    }
   ],
   "source": [
    "10000*10*4*6/1000/60"
   ]
  },
  {
   "cell_type": "markdown",
   "metadata": {},
   "source": [
    "### Bootstrapping (1 Sólo Fujo)"
   ]
  },
  {
   "cell_type": "code",
   "execution_count": 22,
   "metadata": {
    "ExecuteTime": {
     "end_time": "2020-09-19T12:46:21.739986Z",
     "start_time": "2020-09-19T12:46:21.737038Z"
    }
   },
   "outputs": [],
   "source": [
    "cashflow = 107.5\n",
    "plazo = 365.0"
   ]
  },
  {
   "cell_type": "markdown",
   "metadata": {},
   "source": [
    "**Problema:** encontrar la tasa a 365 días que haga que el valor presente de este flujo sea igual a 100."
   ]
  },
  {
   "cell_type": "code",
   "execution_count": 23,
   "metadata": {
    "ExecuteTime": {
     "end_time": "2020-09-19T12:46:21.744608Z",
     "start_time": "2020-09-19T12:46:21.741732Z"
    }
   },
   "outputs": [],
   "source": [
    "pv = partial(present_value, lin_interpol, df)"
   ]
  },
  {
   "cell_type": "code",
   "execution_count": 24,
   "metadata": {
    "ExecuteTime": {
     "end_time": "2020-09-19T12:46:21.751106Z",
     "start_time": "2020-09-19T12:46:21.746485Z"
    }
   },
   "outputs": [
    {
     "data": {
      "text/plain": [
       "97.72727272727272"
      ]
     },
     "execution_count": 24,
     "metadata": {},
     "output_type": "execute_result"
    }
   ],
   "source": [
    "pv(cashflow, plazo, tenors, rates)"
   ]
  },
  {
   "cell_type": "code",
   "execution_count": 25,
   "metadata": {
    "ExecuteTime": {
     "end_time": "2020-09-19T12:46:21.756323Z",
     "start_time": "2020-09-19T12:46:21.753032Z"
    }
   },
   "outputs": [],
   "source": [
    "g = grad(pv, argnum=3)"
   ]
  },
  {
   "cell_type": "code",
   "execution_count": 26,
   "metadata": {
    "ExecuteTime": {
     "end_time": "2020-09-19T12:46:21.763910Z",
     "start_time": "2020-09-19T12:46:21.758560Z"
    }
   },
   "outputs": [
    {
     "data": {
      "text/plain": [
       "array([  0.        , -88.84297521])"
      ]
     },
     "execution_count": 26,
     "metadata": {},
     "output_type": "execute_result"
    }
   ],
   "source": [
    "g(cashflow, plazo, tenors, rates)"
   ]
  },
  {
   "cell_type": "code",
   "execution_count": 27,
   "metadata": {
    "ExecuteTime": {
     "end_time": "2020-09-19T12:46:21.768532Z",
     "start_time": "2020-09-19T12:46:21.765592Z"
    }
   },
   "outputs": [],
   "source": [
    "rates0 = np.array([.05, 0.0])"
   ]
  },
  {
   "cell_type": "code",
   "execution_count": 28,
   "metadata": {
    "ExecuteTime": {
     "end_time": "2020-09-19T12:46:21.777633Z",
     "start_time": "2020-09-19T12:46:21.770584Z"
    }
   },
   "outputs": [],
   "source": [
    "def solve(cashflow, tenor, obj, tenors, rates, pv):\n",
    "    epsilon = .000001\n",
    "    g = grad(pv, argnum=3)\n",
    "    rates_ = np.array([rates[0], rates[1]])\n",
    "    delta = 1\n",
    "    while delta > epsilon:\n",
    "        r1 = rates_[1] - (pv(cashflow, tenor, tenors, rates_) - obj) / g(cashflow, tenor, tenors, rates_)[1]\n",
    "        delta = abs(r1 - rates_[1])\n",
    "        if type(r1) is np.float64:\n",
    "            rates_[1] = r1\n",
    "        else:\n",
    "            rates_[1] = r1._value\n",
    "    return r1"
   ]
  },
  {
   "cell_type": "code",
   "execution_count": 29,
   "metadata": {
    "ExecuteTime": {
     "end_time": "2020-09-19T12:46:21.788249Z",
     "start_time": "2020-09-19T12:46:21.780482Z"
    }
   },
   "outputs": [
    {
     "data": {
      "text/plain": [
       "0.07500000000000007"
      ]
     },
     "execution_count": 29,
     "metadata": {},
     "output_type": "execute_result"
    }
   ],
   "source": [
    "solve(cashflow, plazo, 100.0, tenors, rates0, pv)"
   ]
  },
  {
   "cell_type": "code",
   "execution_count": 30,
   "metadata": {
    "ExecuteTime": {
     "end_time": "2020-09-19T12:46:21.795639Z",
     "start_time": "2020-09-19T12:46:21.790454Z"
    }
   },
   "outputs": [
    {
     "data": {
      "text/plain": [
       "array([0.05, 0.  ])"
      ]
     },
     "execution_count": 30,
     "metadata": {},
     "output_type": "execute_result"
    }
   ],
   "source": [
    "rates0"
   ]
  },
  {
   "cell_type": "code",
   "execution_count": 31,
   "metadata": {
    "ExecuteTime": {
     "end_time": "2020-09-19T12:46:21.800682Z",
     "start_time": "2020-09-19T12:46:21.797833Z"
    }
   },
   "outputs": [],
   "source": [
    "gsolve = grad(solve, argnum=0)"
   ]
  },
  {
   "cell_type": "code",
   "execution_count": 32,
   "metadata": {
    "ExecuteTime": {
     "end_time": "2020-09-19T12:46:21.811171Z",
     "start_time": "2020-09-19T12:46:21.802748Z"
    }
   },
   "outputs": [
    {
     "data": {
      "text/plain": [
       "0.009999999988773293"
      ]
     },
     "execution_count": 32,
     "metadata": {},
     "output_type": "execute_result"
    }
   ],
   "source": [
    "gsolve(cashflow, plazo, 100.0, tenors, rates0, pv)"
   ]
  },
  {
   "cell_type": "markdown",
   "metadata": {},
   "source": [
    "### Bootstrapping (Varios Flujos)"
   ]
  },
  {
   "cell_type": "code",
   "execution_count": 33,
   "metadata": {
    "ExecuteTime": {
     "end_time": "2020-09-19T12:46:21.817784Z",
     "start_time": "2020-09-19T12:46:21.813545Z"
    }
   },
   "outputs": [],
   "source": [
    "def kron(i, j):\n",
    "    return int(i == j)"
   ]
  },
  {
   "cell_type": "code",
   "execution_count": 34,
   "metadata": {
    "ExecuteTime": {
     "end_time": "2020-09-19T12:46:21.825921Z",
     "start_time": "2020-09-19T12:46:21.820945Z"
    }
   },
   "outputs": [],
   "source": [
    "def dfs(rates, tenors):\n",
    "    return np.array([df(z[0], z[1]) for z in zip(rates, tenors)])"
   ]
  },
  {
   "cell_type": "code",
   "execution_count": 35,
   "metadata": {
    "ExecuteTime": {
     "end_time": "2020-09-19T12:46:21.835940Z",
     "start_time": "2020-09-19T12:46:21.828003Z"
    }
   },
   "outputs": [
    {
     "data": {
      "text/plain": [
       "array([0.99997274, 0.93023256])"
      ]
     },
     "execution_count": 35,
     "metadata": {},
     "output_type": "execute_result"
    }
   ],
   "source": [
    "rates = np.array([.01, .075])\n",
    "dfs(rates, tenors)"
   ]
  },
  {
   "cell_type": "code",
   "execution_count": 36,
   "metadata": {
    "ExecuteTime": {
     "end_time": "2020-09-19T12:46:21.844098Z",
     "start_time": "2020-09-19T12:46:21.838818Z"
    }
   },
   "outputs": [],
   "source": [
    "def lin_interpols(tenors, rates, new_tenors):\n",
    "    return np.array([lin_interpol(tenors, rates, t) for t in new_tenors])"
   ]
  },
  {
   "cell_type": "code",
   "execution_count": 37,
   "metadata": {
    "ExecuteTime": {
     "end_time": "2020-09-19T12:46:21.857353Z",
     "start_time": "2020-09-19T12:46:21.851430Z"
    }
   },
   "outputs": [
    {
     "data": {
      "text/plain": [
       "array([0.02589286, 0.04196429, 0.05803571])"
      ]
     },
     "execution_count": 37,
     "metadata": {},
     "output_type": "execute_result"
    }
   ],
   "source": [
    "lin_interpols(tenors, rates, [90.0, 180.0, 270.0])"
   ]
  },
  {
   "cell_type": "code",
   "execution_count": 38,
   "metadata": {
    "ExecuteTime": {
     "end_time": "2020-09-19T12:46:21.864652Z",
     "start_time": "2020-09-19T12:46:21.859619Z"
    }
   },
   "outputs": [],
   "source": [
    "def fixed_rate_leg(nocional, tasa, num_cupones):\n",
    "    return np.array([.5 * 365.0 * i for i in range(1, num_cupones + 1)]), \\\n",
    "        np.array([nocional * (kron(i, num_cupones) + tasa / 2.0)\n",
    "                  for i in range(1, num_cupones + 1)])"
   ]
  },
  {
   "cell_type": "code",
   "execution_count": 39,
   "metadata": {
    "ExecuteTime": {
     "end_time": "2020-09-19T12:46:21.871750Z",
     "start_time": "2020-09-19T12:46:21.866486Z"
    }
   },
   "outputs": [
    {
     "data": {
      "text/plain": [
       "(array([182.5, 365. ]), array([  3., 103.]))"
      ]
     },
     "execution_count": 39,
     "metadata": {},
     "output_type": "execute_result"
    }
   ],
   "source": [
    "fixed_rate_leg(100, .06, 2)"
   ]
  },
  {
   "cell_type": "code",
   "execution_count": 40,
   "metadata": {
    "ExecuteTime": {
     "end_time": "2020-09-19T12:46:21.877598Z",
     "start_time": "2020-09-19T12:46:21.873650Z"
    }
   },
   "outputs": [],
   "source": [
    "def present_value_2(interp, disc, cashflows_tenors, cashflows, curve_tenors, curve_rates):\n",
    "    cashflow_rates = interp(curve_tenors, curve_rates, cashflows_tenors)\n",
    "    return np.dot(dfs(cashflow_rates, cashflows_tenors), cashflows)"
   ]
  },
  {
   "cell_type": "code",
   "execution_count": 41,
   "metadata": {
    "ExecuteTime": {
     "end_time": "2020-09-19T12:46:21.886297Z",
     "start_time": "2020-09-19T12:46:21.879680Z"
    }
   },
   "outputs": [
    {
     "data": {
      "text/plain": [
       "98.75229196044188"
      ]
     },
     "execution_count": 41,
     "metadata": {},
     "output_type": "execute_result"
    }
   ],
   "source": [
    "present_value_2(lin_interpols, dfs, fixed_rate_leg(100, .06, 2)[0],\n",
    "               fixed_rate_leg(100, .06, 2)[1], tenors, rates)"
   ]
  },
  {
   "cell_type": "code",
   "execution_count": 42,
   "metadata": {
    "ExecuteTime": {
     "end_time": "2020-09-19T12:46:21.892386Z",
     "start_time": "2020-09-19T12:46:21.888105Z"
    }
   },
   "outputs": [],
   "source": [
    "def pv_fixed_leg(interp, disc, nocional, tasa, num_cupones, curve_tenors, curve_rates):\n",
    "    plazos, flujos = fixed_rate_leg(nocional, tasa, num_cupones)\n",
    "    return present_value_2(interp, disc, plazos, flujos, curve_tenors, curve_rates)"
   ]
  },
  {
   "cell_type": "code",
   "execution_count": 43,
   "metadata": {
    "ExecuteTime": {
     "end_time": "2020-09-19T12:46:21.899049Z",
     "start_time": "2020-09-19T12:46:21.894083Z"
    }
   },
   "outputs": [
    {
     "data": {
      "text/plain": [
       "98.75229196044188"
      ]
     },
     "execution_count": 43,
     "metadata": {},
     "output_type": "execute_result"
    }
   ],
   "source": [
    "pv_fixed_leg(lin_interpols, dfs, 100.0, .06, 2, tenors, rates)"
   ]
  },
  {
   "cell_type": "code",
   "execution_count": 44,
   "metadata": {
    "ExecuteTime": {
     "end_time": "2020-09-19T12:46:21.903970Z",
     "start_time": "2020-09-19T12:46:21.900981Z"
    }
   },
   "outputs": [],
   "source": [
    "pv_2 = partial(pv_fixed_leg, lin_interpols, dfs)"
   ]
  },
  {
   "cell_type": "code",
   "execution_count": 45,
   "metadata": {
    "ExecuteTime": {
     "end_time": "2020-09-19T12:46:21.910839Z",
     "start_time": "2020-09-19T12:46:21.905861Z"
    }
   },
   "outputs": [
    {
     "data": {
      "text/plain": [
       "98.75229196044188"
      ]
     },
     "execution_count": 45,
     "metadata": {},
     "output_type": "execute_result"
    }
   ],
   "source": [
    "pv_2(100.0, .06, 2, tenors, rates)"
   ]
  },
  {
   "cell_type": "code",
   "execution_count": 46,
   "metadata": {
    "ExecuteTime": {
     "end_time": "2020-09-19T12:46:21.915779Z",
     "start_time": "2020-09-19T12:46:21.912598Z"
    }
   },
   "outputs": [],
   "source": [
    "gpvleg = grad(pv_2, argnum=1)"
   ]
  },
  {
   "cell_type": "code",
   "execution_count": 47,
   "metadata": {
    "ExecuteTime": {
     "end_time": "2020-09-19T12:46:21.923180Z",
     "start_time": "2020-09-19T12:46:21.917858Z"
    }
   },
   "outputs": [
    {
     "data": {
      "text/plain": [
       "95.4839357748065"
      ]
     },
     "execution_count": 47,
     "metadata": {},
     "output_type": "execute_result"
    }
   ],
   "source": [
    "gpvleg(100.0, .06, 2, tenors, rates)"
   ]
  },
  {
   "cell_type": "code",
   "execution_count": 66,
   "metadata": {
    "ExecuteTime": {
     "end_time": "2020-09-19T12:49:40.562034Z",
     "start_time": "2020-09-19T12:49:40.550678Z"
    }
   },
   "outputs": [],
   "source": [
    "def solve_2(nocional, tasa, num_cupones, obj, tenors, rates, pv):\n",
    "    epsilon = .000001\n",
    "    g = grad(pv, argnum=4)\n",
    "    rates_ = np.array([r for r in rates] + [0.0,])\n",
    "    print(rates_)\n",
    "    which = len(rates_) - 1\n",
    "    print(f'which: {which}')\n",
    "    delta = 1\n",
    "    while delta > epsilon:\n",
    "        q = (pv(nocional, tasa, num_cupones, tenors, rates_) - obj)\n",
    "        q /= g(nocional, tasa, num_cupones, tenors, rates_)[which]\n",
    "        r1 = rates_[which] - q\n",
    "        print(r1)\n",
    "        delta = abs(r1 - rates_[which])\n",
    "        print(f'delta: {delta}')\n",
    "        if type(r1) is np.float64:\n",
    "            rates_ = np.array([r for r in rates] + [r1,])\n",
    "        else:\n",
    "            rates_ = np.array([r for r in rates] + [r1._value,])\n",
    "    return r1"
   ]
  },
  {
   "cell_type": "code",
   "execution_count": 67,
   "metadata": {
    "ExecuteTime": {
     "end_time": "2020-09-19T12:49:40.570661Z",
     "start_time": "2020-09-19T12:49:40.566010Z"
    }
   },
   "outputs": [],
   "source": [
    "rates0 = np.array([.05,])"
   ]
  },
  {
   "cell_type": "code",
   "execution_count": 68,
   "metadata": {
    "ExecuteTime": {
     "end_time": "2020-09-19T12:49:40.592329Z",
     "start_time": "2020-09-19T12:49:40.573946Z"
    }
   },
   "outputs": [
    {
     "name": "stdout",
     "output_type": "stream",
     "text": [
      "[0.05 0.  ]\n",
      "which: 1\n",
      "0.057491813930758244\n",
      "delta: 0.057491813930758244\n",
      "0.06097025747500407\n",
      "delta: 0.0034784435442458267\n",
      "0.0609816831491982\n",
      "delta: 1.1425674194126545e-05\n",
      "0.06098168327166905\n",
      "delta: 1.2247085290351123e-10\n",
      "sol: 0.06098168327166905\n"
     ]
    }
   ],
   "source": [
    "r_sol = solve_2(100.0, .06, 2, 100.0, tenors, rates0, pv_2)\n",
    "print(f'sol: {r_sol}')"
   ]
  },
  {
   "cell_type": "code",
   "execution_count": 69,
   "metadata": {
    "ExecuteTime": {
     "end_time": "2020-09-19T12:49:40.602183Z",
     "start_time": "2020-09-19T12:49:40.594964Z"
    }
   },
   "outputs": [
    {
     "data": {
      "text/plain": [
       "100.00000000000003"
      ]
     },
     "execution_count": 69,
     "metadata": {},
     "output_type": "execute_result"
    }
   ],
   "source": [
    "rates_sol = np.array([rates0[0], r_sol])\n",
    "pv_2(100.0, .06, 2, tenors, rates_sol)"
   ]
  },
  {
   "cell_type": "code",
   "execution_count": 70,
   "metadata": {
    "ExecuteTime": {
     "end_time": "2020-09-19T12:49:40.610228Z",
     "start_time": "2020-09-19T12:49:40.606527Z"
    }
   },
   "outputs": [],
   "source": [
    "gs2 = grad(solve_2, argnum=1)"
   ]
  },
  {
   "cell_type": "code",
   "execution_count": 71,
   "metadata": {
    "ExecuteTime": {
     "end_time": "2020-09-19T12:49:40.629730Z",
     "start_time": "2020-09-19T12:49:40.612195Z"
    }
   },
   "outputs": [
    {
     "name": "stdout",
     "output_type": "stream",
     "text": [
      "[0.05 0.  ]\n",
      "which: 1\n",
      "Autograd ArrayBox with value 0.057491813930758244\n",
      "delta: Autograd ArrayBox with value 0.057491813930758244\n",
      "Autograd ArrayBox with value 0.06097025747500407\n",
      "delta: Autograd ArrayBox with value 0.0034784435442458267\n",
      "Autograd ArrayBox with value 0.0609816831491982\n",
      "delta: Autograd ArrayBox with value 1.1425674194126545e-05\n",
      "Autograd ArrayBox with value 0.06098168327166905\n",
      "delta: Autograd ArrayBox with value 1.2247085290351123e-10\n"
     ]
    },
    {
     "data": {
      "text/plain": [
       "1.0390997985892199"
      ]
     },
     "execution_count": 71,
     "metadata": {},
     "output_type": "execute_result"
    }
   ],
   "source": [
    "gs2(100.0, .06, 2, 100.0, tenors, rates0, pv_2)"
   ]
  },
  {
   "cell_type": "code",
   "execution_count": 72,
   "metadata": {
    "ExecuteTime": {
     "end_time": "2020-09-19T12:49:40.651191Z",
     "start_time": "2020-09-19T12:49:40.631647Z"
    }
   },
   "outputs": [
    {
     "name": "stdout",
     "output_type": "stream",
     "text": [
      "Autograd ArrayBox with value [0.05 0.  ]\n",
      "which: 1\n",
      "Autograd ArrayBox with value 0.057491813930758244\n",
      "delta: Autograd ArrayBox with value 0.057491813930758244\n",
      "Autograd ArrayBox with value 0.06097025747500407\n",
      "delta: Autograd ArrayBox with value 0.0034784435442458267\n",
      "Autograd ArrayBox with value 0.0609816831491982\n",
      "delta: Autograd ArrayBox with value 1.1425674194126545e-05\n",
      "Autograd ArrayBox with value 0.06098168327166905\n",
      "delta: Autograd ArrayBox with value 1.2247085290351123e-10\n"
     ]
    },
    {
     "data": {
      "text/plain": [
       "array([-0.00752311])"
      ]
     },
     "execution_count": 72,
     "metadata": {},
     "output_type": "execute_result"
    }
   ],
   "source": [
    "grad(solve_2, argnum=5)(100.0, .06, 2, 100.0, tenors, rates0, pv_2)"
   ]
  },
  {
   "cell_type": "code",
   "execution_count": 73,
   "metadata": {
    "ExecuteTime": {
     "end_time": "2020-09-19T12:49:40.656123Z",
     "start_time": "2020-09-19T12:49:40.653086Z"
    }
   },
   "outputs": [],
   "source": [
    "tenors0 = [1.0, 365.0, 730.0]\n",
    "rates0 = [0.05, r_sol]"
   ]
  },
  {
   "cell_type": "code",
   "execution_count": 74,
   "metadata": {
    "ExecuteTime": {
     "end_time": "2020-09-19T12:49:40.673518Z",
     "start_time": "2020-09-19T12:49:40.658094Z"
    }
   },
   "outputs": [
    {
     "name": "stdout",
     "output_type": "stream",
     "text": [
      "[0.05       0.06098168 0.        ]\n",
      "which: 2\n",
      "0.05760642144390602\n",
      "delta: 0.05760642144390602\n",
      "0.06303452556938739\n",
      "delta: 0.005428104125481371\n",
      "0.06307638835226625\n",
      "delta: 4.186278287886258e-05\n",
      "0.06307639080868392\n",
      "delta: 2.456417666496513e-09\n"
     ]
    },
    {
     "data": {
      "text/plain": [
       "0.06307639080868392"
      ]
     },
     "execution_count": 74,
     "metadata": {},
     "output_type": "execute_result"
    }
   ],
   "source": [
    "solve_2(100.0, .062, 4, 100.0, tenors0, rates0, pv_2)"
   ]
  },
  {
   "cell_type": "code",
   "execution_count": 76,
   "metadata": {
    "ExecuteTime": {
     "end_time": "2020-09-19T12:54:26.731353Z",
     "start_time": "2020-09-19T12:54:26.703706Z"
    }
   },
   "outputs": [
    {
     "name": "stdout",
     "output_type": "stream",
     "text": [
      "[0.05       0.06098168 0.        ]\n",
      "which: 2\n",
      "Autograd ArrayBox with value 0.05760642144390602\n",
      "delta: Autograd ArrayBox with value 0.05760642144390602\n",
      "Autograd ArrayBox with value 0.06303452556938739\n",
      "delta: Autograd ArrayBox with value 0.005428104125481371\n",
      "Autograd ArrayBox with value 0.06307638835226625\n",
      "delta: Autograd ArrayBox with value 4.186278287886258e-05\n",
      "Autograd ArrayBox with value 0.06307639080868392\n",
      "delta: Autograd ArrayBox with value 2.456417666496513e-09\n"
     ]
    },
    {
     "data": {
      "text/plain": [
       "1.0696313573198202"
      ]
     },
     "execution_count": 76,
     "metadata": {},
     "output_type": "execute_result"
    }
   ],
   "source": [
    "grad(solve_2, argnum=1)(100.0, .062, 4, 100.0, tenors0, rates0, pv_2)"
   ]
  }
 ],
 "metadata": {
  "kernelspec": {
   "display_name": "Python 3",
   "language": "python",
   "name": "python3"
  },
  "language_info": {
   "codemirror_mode": {
    "name": "ipython",
    "version": 3
   },
   "file_extension": ".py",
   "mimetype": "text/x-python",
   "name": "python",
   "nbconvert_exporter": "python",
   "pygments_lexer": "ipython3",
   "version": "3.7.3"
  },
  "toc": {
   "base_numbering": 1,
   "nav_menu": {},
   "number_sections": true,
   "sideBar": true,
   "skip_h1_title": true,
   "title_cell": "Table of Contents",
   "title_sidebar": "Contents",
   "toc_cell": false,
   "toc_position": {
    "height": "calc(100% - 180px)",
    "left": "10px",
    "top": "150px",
    "width": "197px"
   },
   "toc_section_display": true,
   "toc_window_display": true
  }
 },
 "nbformat": 4,
 "nbformat_minor": 4
}
