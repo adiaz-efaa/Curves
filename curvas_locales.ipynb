{
 "cells": [
  {
   "cell_type": "markdown",
   "metadata": {},
   "source": [
    "# Curva Mercado Local"
   ]
  },
  {
   "cell_type": "code",
   "execution_count": 1,
   "metadata": {
    "ExecuteTime": {
     "end_time": "2020-09-19T20:35:59.475461Z",
     "start_time": "2020-09-19T20:35:59.363608Z"
    }
   },
   "outputs": [],
   "source": [
    "import autograd.numpy as np\n",
    "from autograd import grad\n",
    "from functools import partial\n",
    "from bisect import bisect_right"
   ]
  },
  {
   "cell_type": "markdown",
   "metadata": {},
   "source": [
    "**Primer Paso del Bootstrapping Local**\n",
    "\n",
    "- Calculo E(ICP6M) con la cotización del swap a 6M\n",
    "- Tengo las cotizaciones de swap y basis a 1Y:\n",
    "  - Basis: $V_{usd}=PV(discount_{clp},proyeccion_{clp})$\n",
    "  \n",
    "  - Swap: $PV_{fija}(discount_{clp})=PV(discount_{clp},proyeccion_{clp})$\n",
    "  \n",
    "  - Entonces: $PV_{fija}(discount_{clp})=V_{usd}$\n",
    "  \n",
    "  - Finalmente: Resuelvo la ecuación del basis usando la curva de descuento que acabo de obtener. Esta ecuación es de 1 incógnita porque ya tengo el E(ICP6M)."
   ]
  },
  {
   "cell_type": "code",
   "execution_count": 2,
   "metadata": {
    "ExecuteTime": {
     "end_time": "2020-09-19T20:35:59.482642Z",
     "start_time": "2020-09-19T20:35:59.477912Z"
    }
   },
   "outputs": [],
   "source": [
    "swap_6m = .000495\n",
    "v_usd = 101.0\n",
    "swap_1y = .000515\n",
    "basis_1y = .00032"
   ]
  },
  {
   "cell_type": "code",
   "execution_count": 3,
   "metadata": {
    "ExecuteTime": {
     "end_time": "2020-09-19T20:35:59.506956Z",
     "start_time": "2020-09-19T20:35:59.485563Z"
    }
   },
   "outputs": [],
   "source": [
    "def lin_interpol(tenors, rates, tenor):\n",
    "    if tenor >= tenors[len(tenors) - 1]:\n",
    "        return rates[len(tenors) - 1]\n",
    "    elif tenor <= tenors[0]:\n",
    "        return rates[0]\n",
    "    else:\n",
    "        i = bisect_right(tenors, tenor) - 1\n",
    "        m = (rates[i + 1] - rates[i]) / (tenors[i + 1] - tenors[i])\n",
    "        return rates[i] + m * (tenor - tenors[i])\n",
    "    \n",
    "def df(rate, tenor):\n",
    "    return (1 + rate)**(-tenor / 365.0)\n",
    "\n",
    "def present_value(interp, disc, cashflow, tenor, tenors, rates):\n",
    "    rate = interp(tenors, rates, tenor)\n",
    "    return df(rate, tenor) * cashflow\n",
    "\n",
    "def kron(i, j):\n",
    "    return int(i == j)\n",
    "\n",
    "def dfs(rates, tenors):\n",
    "    return np.array([df(z[0], z[1]) for z in zip(rates, tenors)])\n",
    "\n",
    "def lin_interpols(tenors, rates, new_tenors):\n",
    "    return np.array([lin_interpol(tenors, rates, t) for t in new_tenors])\n",
    "\n",
    "def fixed_rate_leg(nocional, tasa, num_cupones):\n",
    "    return np.array([.5 * 365.0 * i for i in range(1, num_cupones + 1)]), \\\n",
    "        np.array([nocional * (kron(i, num_cupones) + tasa / 2.0)\n",
    "                  for i in range(1, num_cupones + 1)])\n",
    "\n",
    "def present_value_2(interp, disc, cashflows_tenors, cashflows, curve_tenors, curve_rates):\n",
    "    cashflow_rates = interp(curve_tenors, curve_rates, cashflows_tenors)\n",
    "    return np.dot(dfs(cashflow_rates, cashflows_tenors), cashflows)\n",
    "\n",
    "def pv_fixed_leg(interp, disc, nocional, tasa, num_cupones, curve_tenors, curve_rates):\n",
    "    plazos, flujos = fixed_rate_leg(nocional, tasa, num_cupones)\n",
    "    return present_value_2(interp, disc, plazos, flujos, curve_tenors, curve_rates)\n",
    "\n",
    "def solve_2(nocional, tasa, num_cupones, obj, tenors, rates, pv):\n",
    "    epsilon = .000001\n",
    "    g = grad(pv, argnum=4)\n",
    "    rates_ = np.array([r for r in rates] + [0.0,])\n",
    "    print(rates_)\n",
    "    which = len(rates_) - 1\n",
    "    print(f'which: {which}')\n",
    "    delta = 1\n",
    "    while delta > epsilon:\n",
    "        q = (pv(nocional, tasa, num_cupones, tenors, rates_) - obj)\n",
    "        q /= g(nocional, tasa, num_cupones, tenors, rates_)[which]\n",
    "        r1 = rates_[which] - q\n",
    "        print(r1)\n",
    "        delta = abs(r1 - rates_[which])\n",
    "        print(f'delta: {delta}')\n",
    "        if type(r1) is np.float64:\n",
    "            rates_ = np.array([r for r in rates] + [r1,])\n",
    "        else:\n",
    "            rates_ = np.array([r for r in rates] + [r1._value,])\n",
    "    return r1"
   ]
  },
  {
   "cell_type": "code",
   "execution_count": 4,
   "metadata": {
    "ExecuteTime": {
     "end_time": "2020-09-19T20:35:59.511913Z",
     "start_time": "2020-09-19T20:35:59.508775Z"
    }
   },
   "outputs": [],
   "source": [
    "tenors0 = np.array([1.0, 365.0])\n",
    "rates0 = np.array([.005,])"
   ]
  },
  {
   "cell_type": "code",
   "execution_count": 5,
   "metadata": {
    "ExecuteTime": {
     "end_time": "2020-09-19T20:35:59.517248Z",
     "start_time": "2020-09-19T20:35:59.514576Z"
    }
   },
   "outputs": [],
   "source": [
    "pv = partial(pv_fixed_leg, lin_interpols, dfs)"
   ]
  },
  {
   "cell_type": "code",
   "execution_count": 6,
   "metadata": {
    "ExecuteTime": {
     "end_time": "2020-09-19T20:35:59.534524Z",
     "start_time": "2020-09-19T20:35:59.519254Z"
    }
   },
   "outputs": [
    {
     "name": "stdout",
     "output_type": "stream",
     "text": [
      "[0.005 0.   ]\n",
      "which: 1\n",
      "0.0005145124524150278\n",
      "delta: 0.0005145124524150278\n",
      "0.0005147773010557074\n",
      "delta: 2.6484864067957605e-07\n"
     ]
    },
    {
     "data": {
      "text/plain": [
       "0.0005147773010557074"
      ]
     },
     "execution_count": 6,
     "metadata": {},
     "output_type": "execute_result"
    }
   ],
   "source": [
    "solve_2(100.0, swap_1y, 2, 100.0, tenors0, rates0, pv)"
   ]
  }
 ],
 "metadata": {
  "kernelspec": {
   "display_name": "Python 3",
   "language": "python",
   "name": "python3"
  },
  "language_info": {
   "codemirror_mode": {
    "name": "ipython",
    "version": 3
   },
   "file_extension": ".py",
   "mimetype": "text/x-python",
   "name": "python",
   "nbconvert_exporter": "python",
   "pygments_lexer": "ipython3",
   "version": "3.7.3"
  },
  "toc": {
   "base_numbering": 1,
   "nav_menu": {},
   "number_sections": true,
   "sideBar": true,
   "skip_h1_title": false,
   "title_cell": "Table of Contents",
   "title_sidebar": "Contents",
   "toc_cell": false,
   "toc_position": {},
   "toc_section_display": true,
   "toc_window_display": false
  }
 },
 "nbformat": 4,
 "nbformat_minor": 4
}
