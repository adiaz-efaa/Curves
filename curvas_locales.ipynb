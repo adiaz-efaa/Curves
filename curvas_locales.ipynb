{
 "cells": [
  {
   "cell_type": "markdown",
   "metadata": {},
   "source": [
    "# Curva Mercado Local"
   ]
  },
  {
   "cell_type": "code",
   "execution_count": 1,
   "metadata": {
    "ExecuteTime": {
     "end_time": "2020-09-20T15:58:47.815461Z",
     "start_time": "2020-09-20T15:58:47.702716Z"
    }
   },
   "outputs": [],
   "source": [
    "import autograd.numpy as np\n",
    "from autograd import grad\n",
    "from functools import partial\n",
    "from bisect import bisect_right\n",
    "from finrisk import QC_Financial_3 as Qcf"
   ]
  },
  {
   "cell_type": "markdown",
   "metadata": {},
   "source": [
    "**Primer Paso del Bootstrapping Local**\n",
    "\n",
    "- Calculo E(ICP6M) con la cotización del swap a 6M\n",
    "- Tengo las cotizaciones de swap y basis a 1Y:\n",
    "  - Basis: $USDCLP \\cdot V_{usd}=PV(discount_{clp},proyeccion_{clp})$\n",
    "  \n",
    "  - Swap: $PV_{fija}(discount_{clp})=PV(discount_{clp},proyeccion_{clp})$\n",
    "  \n",
    "  - Entonces: $PV_{fija}(discount_{clp})=V_{usd}$\n",
    "  \n",
    "  - Finalmente: Resuelvo la ecuación del basis usando la curva de descuento que acabo de obtener. Esta ecuación es de 1 incógnita porque ya tengo el E(ICP6M)."
   ]
  },
  {
   "cell_type": "code",
   "execution_count": 2,
   "metadata": {
    "ExecuteTime": {
     "end_time": "2020-09-20T15:58:47.822655Z",
     "start_time": "2020-09-20T15:58:47.818533Z"
    }
   },
   "outputs": [],
   "source": [
    "swap_6m = .000495\n",
    "v_usd = 101.0\n",
    "swap_1y = .000515\n",
    "basis_1y = .00032"
   ]
  },
  {
   "cell_type": "code",
   "execution_count": 3,
   "metadata": {
    "ExecuteTime": {
     "end_time": "2020-09-20T15:58:47.850696Z",
     "start_time": "2020-09-20T15:58:47.825027Z"
    }
   },
   "outputs": [],
   "source": [
    "def lin_interpol(tenors, rates, tenor):\n",
    "    if tenor >= tenors[len(tenors) - 1]:\n",
    "        return rates[len(tenors) - 1]\n",
    "    elif tenor <= tenors[0]:\n",
    "        return rates[0]\n",
    "    else:\n",
    "        i = bisect_right(tenors, tenor) - 1\n",
    "        m = (rates[i + 1] - rates[i]) / (tenors[i + 1] - tenors[i])\n",
    "        return rates[i] + m * (tenor - tenors[i])\n",
    "    \n",
    "def df(rate, tenor):\n",
    "    return (1 + rate)**(-tenor / 365.0)\n",
    "\n",
    "def present_value(interp, disc, cashflow, tenor, tenors, rates):\n",
    "    rate = interp(tenors, rates, tenor)\n",
    "    return disc(rate, tenor) * cashflow\n",
    "\n",
    "def kron(i, j):\n",
    "    return int(i == j)\n",
    "\n",
    "def dfs(rates, tenors):\n",
    "    return np.array([df(z[0], z[1]) for z in zip(rates, tenors)])\n",
    "\n",
    "def lin_interpols(tenors, rates, new_tenors):\n",
    "    return np.array([lin_interpol(tenors, rates, t) for t in new_tenors])\n",
    "\n",
    "def fixed_rate_leg(nocional, tasa, num_cupones):\n",
    "    return np.array([.5 * 365.0 * i for i in range(1, num_cupones + 1)]), \\\n",
    "        np.array([nocional * (kron(i, num_cupones) + tasa / 2.0)\n",
    "                  for i in range(1, num_cupones + 1)])\n",
    "\n",
    "def present_value_2(interp, disc, cashflows_tenors, cashflows, curve_tenors, curve_rates):\n",
    "    cashflow_rates = interp(curve_tenors, curve_rates, cashflows_tenors)\n",
    "    return np.dot(dfs(cashflow_rates, cashflows_tenors), cashflows)\n",
    "\n",
    "def pv_fixed_leg(interp, disc, nocional, tasa, num_cupones, curve_tenors, curve_rates):\n",
    "    plazos, flujos = fixed_rate_leg(nocional, tasa, num_cupones)\n",
    "    return present_value_2(interp, disc, plazos, flujos, curve_tenors, curve_rates)\n",
    "\n",
    "def solve_2(nocional, tasa, num_cupones, obj, tenors, rates, pv):\n",
    "    \"\"\"\n",
    "    Con nocional, tasa y num_cupones se construye una pata fija con\n",
    "    periodicidad semestral. Por ejemplo, si nocional = 100, tasa = 2.0%\n",
    "    y num_cupones = 4, se obtienen 4 cupones semestrales los primeros\n",
    "    pagan un interés de 1 y el último para nocional (100) más el último\n",
    "    interés igual a 1.\n",
    "    \n",
    "    Obj es el valor presente que quieres que tenga la pata fija,\n",
    "    \n",
    "    tenors y rates son los plazos y tasas de la curva inicial.\n",
    "    \n",
    "    pv es la función que calcula el valor presente de la pata fija.\n",
    "    \n",
    "    La función retorna la última tasa de la curva de modo que el valor\n",
    "    presente de la pata fija sea igual a obj.\n",
    "    \"\"\"\n",
    "    epsilon = .000001\n",
    "    g = grad(pv, argnum=4)\n",
    "    rates_ = np.array([r for r in rates] + [0.0,])\n",
    "    print(rates_)\n",
    "    which = len(rates_) - 1\n",
    "    print(f'which: {which}')\n",
    "    delta = 1\n",
    "    while delta > epsilon:\n",
    "        q = (pv(nocional, tasa, num_cupones, tenors, rates_) - obj)\n",
    "        q /= g(nocional, tasa, num_cupones, tenors, rates_)[which]\n",
    "        r1 = rates_[which] - q\n",
    "        print(r1)\n",
    "        delta = abs(r1 - rates_[which])\n",
    "        print(f'delta: {delta}')\n",
    "        if type(r1) is np.float64:\n",
    "            rates_ = np.array([r for r in rates] + [r1,])\n",
    "        else:\n",
    "            rates_ = np.array([r for r in rates] + [r1._value,])\n",
    "    return r1"
   ]
  },
  {
   "cell_type": "code",
   "execution_count": 4,
   "metadata": {
    "ExecuteTime": {
     "end_time": "2020-09-20T15:58:47.857822Z",
     "start_time": "2020-09-20T15:58:47.853264Z"
    }
   },
   "outputs": [],
   "source": [
    "tenors0 = np.array([1.0, 365.0])\n",
    "rates0 = np.array([.0005,])"
   ]
  },
  {
   "cell_type": "code",
   "execution_count": 5,
   "metadata": {
    "ExecuteTime": {
     "end_time": "2020-09-20T15:58:47.863930Z",
     "start_time": "2020-09-20T15:58:47.860839Z"
    }
   },
   "outputs": [],
   "source": [
    "pv = partial(pv_fixed_leg, lin_interpols, dfs)"
   ]
  },
  {
   "cell_type": "code",
   "execution_count": 6,
   "metadata": {
    "ExecuteTime": {
     "end_time": "2020-09-20T15:58:47.886138Z",
     "start_time": "2020-09-20T15:58:47.866688Z"
    }
   },
   "outputs": [
    {
     "name": "stdout",
     "output_type": "stream",
     "text": [
      "[0.0005 0.    ]\n",
      "which: 1\n",
      "-0.004483590015468371\n",
      "delta: 0.004483590015468371\n",
      "-0.00446357836567684\n",
      "delta: 2.001164979153168e-05\n",
      "-0.004463577963415107\n",
      "delta: 4.022617326043809e-10\n"
     ]
    },
    {
     "data": {
      "text/plain": [
       "-0.004463577963415107"
      ]
     },
     "execution_count": 6,
     "metadata": {},
     "output_type": "execute_result"
    }
   ],
   "source": [
    "solve_2(100.0, swap_1y, 2, 100.5, tenors0, rates0, pv)"
   ]
  },
  {
   "cell_type": "markdown",
   "metadata": {},
   "source": [
    "df * E(rswap - fwd) = 0"
   ]
  },
  {
   "cell_type": "markdown",
   "metadata": {
    "ExecuteTime": {
     "end_time": "2020-09-20T11:52:56.244181Z",
     "start_time": "2020-09-20T11:52:56.238790Z"
    }
   },
   "source": [
    "V = N(t) * E(F(T) / N(T))\n",
    "V = OIS(t)*FX(t) * E(F(T) / (FX(T) * OIS(T))"
   ]
  },
  {
   "cell_type": "code",
   "execution_count": 7,
   "metadata": {
    "ExecuteTime": {
     "end_time": "2020-09-20T15:58:47.892540Z",
     "start_time": "2020-09-20T15:58:47.888597Z"
    }
   },
   "outputs": [],
   "source": [
    "tenors0 = np.array([1.0, 365.0, 730.0])\n",
    "rates0 = np.array([.0005, -0.004463577963415107])"
   ]
  },
  {
   "cell_type": "code",
   "execution_count": 8,
   "metadata": {
    "ExecuteTime": {
     "end_time": "2020-09-20T15:58:47.910538Z",
     "start_time": "2020-09-20T15:58:47.894815Z"
    }
   },
   "outputs": [
    {
     "name": "stdout",
     "output_type": "stream",
     "text": [
      "[ 0.0005     -0.00446358  0.        ]\n",
      "which: 2\n",
      "-0.0041808548075400916\n",
      "delta: 0.0041808548075400916\n",
      "-0.004154820185207878\n",
      "delta: 2.603462233221384e-05\n",
      "-0.004154819164283306\n",
      "delta: 1.0209245714445925e-09\n"
     ]
    },
    {
     "data": {
      "text/plain": [
       "-0.004154819164283306"
      ]
     },
     "execution_count": 8,
     "metadata": {},
     "output_type": "execute_result"
    }
   ],
   "source": [
    "solve_2(100.0, swap_1y + .0003, 4, 101.0, tenors0, rates0, pv)"
   ]
  },
  {
   "cell_type": "code",
   "execution_count": 9,
   "metadata": {
    "ExecuteTime": {
     "end_time": "2020-09-20T15:58:47.937327Z",
     "start_time": "2020-09-20T15:58:47.932806Z"
    }
   },
   "outputs": [],
   "source": [
    "tenors0 = np.array([1.0, 365.0, 730.0])\n",
    "rates0 = np.array([.0005, -0.004463577963415107, -0.004154819164283306])"
   ]
  },
  {
   "cell_type": "markdown",
   "metadata": {},
   "source": [
    "**Pata ICP u OIS**"
   ]
  },
  {
   "cell_type": "code",
   "execution_count": 10,
   "metadata": {
    "ExecuteTime": {
     "end_time": "2020-09-20T15:58:47.946184Z",
     "start_time": "2020-09-20T15:58:47.940069Z"
    }
   },
   "outputs": [],
   "source": [
    "def piece_lin_interpol(tenors, rates, tenor):\n",
    "    if tenor >= tenors[len(tenors) - 1]:\n",
    "        return rates[len(tenors) - 1]\n",
    "    elif tenor <= tenors[0]:\n",
    "        return rates[0]\n",
    "    else:\n",
    "        i = bisect_right(tenors, tenor) - 1\n",
    "        return rates[i]"
   ]
  },
  {
   "cell_type": "code",
   "execution_count": 11,
   "metadata": {
    "ExecuteTime": {
     "end_time": "2020-09-20T15:58:47.953725Z",
     "start_time": "2020-09-20T15:58:47.949750Z"
    }
   },
   "outputs": [],
   "source": [
    "tenors = np.array([0.0, 182.0, 365.0, 730.0])\n",
    "rates = np.array([.0005, .0006, .0007,.0008])"
   ]
  },
  {
   "cell_type": "code",
   "execution_count": 12,
   "metadata": {
    "ExecuteTime": {
     "end_time": "2020-09-20T15:58:47.962650Z",
     "start_time": "2020-09-20T15:58:47.957198Z"
    }
   },
   "outputs": [
    {
     "data": {
      "text/plain": [
       "0.0008"
      ]
     },
     "execution_count": 12,
     "metadata": {},
     "output_type": "execute_result"
    }
   ],
   "source": [
    "piece_lin_interpol(tenors, rates, 730)"
   ]
  },
  {
   "cell_type": "code",
   "execution_count": 13,
   "metadata": {
    "ExecuteTime": {
     "end_time": "2020-09-20T15:58:47.970450Z",
     "start_time": "2020-09-20T15:58:47.964831Z"
    }
   },
   "outputs": [
    {
     "data": {
      "text/plain": [
       "array([1., 0., 0., 0.])"
      ]
     },
     "execution_count": 13,
     "metadata": {},
     "output_type": "execute_result"
    }
   ],
   "source": [
    "grad(piece_lin_interpol, argnum=1)(tenors, rates, 30)"
   ]
  },
  {
   "cell_type": "code",
   "execution_count": 14,
   "metadata": {
    "ExecuteTime": {
     "end_time": "2020-09-20T15:58:47.980223Z",
     "start_time": "2020-09-20T15:58:47.972602Z"
    }
   },
   "outputs": [],
   "source": [
    "def fwd_wf(tenors, rates, tenor1, tenor2):\n",
    "    if tenor1 > tenor2:\n",
    "        tenor1, tenor2 = tenor2, tenor1\n",
    "    if tenor1 < tenors[0]:\n",
    "        i1 = 0\n",
    "    else:\n",
    "        i1 = bisect_right(tenors, tenor1) - 1\n",
    "    i2 = bisect_right(tenors, tenor2) - 1\n",
    "    j = i1\n",
    "    aux = [float(tenor1), float(tenor2)]\n",
    "    while j <= i2:\n",
    "        aux += [tenors[j]]\n",
    "        j += 1\n",
    "    aux = sorted(list(set(aux)))\n",
    "    # print(aux)\n",
    "    if aux[0] < tenor1:\n",
    "        aux = aux[1:]\n",
    "    # print(aux)\n",
    "    wf = 1.0\n",
    "    for j in range(len(aux) - 1):\n",
    "        r = piece_lin_interpol(tenors, rates, aux[j])\n",
    "        wf *= 1 + r * (aux[j + 1] - aux[j]) / 360.0\n",
    "    return wf"
   ]
  },
  {
   "cell_type": "code",
   "execution_count": 15,
   "metadata": {
    "ExecuteTime": {
     "end_time": "2020-09-20T15:58:47.987245Z",
     "start_time": "2020-09-20T15:58:47.982603Z"
    }
   },
   "outputs": [
    {
     "data": {
      "text/plain": [
       "1.0001577816111111"
      ]
     },
     "execution_count": 15,
     "metadata": {},
     "output_type": "execute_result"
    }
   ],
   "source": [
    "fwd_wf(tenors, rates, 90, 200)"
   ]
  },
  {
   "cell_type": "code",
   "execution_count": 16,
   "metadata": {
    "ExecuteTime": {
     "end_time": "2020-09-20T15:58:47.999474Z",
     "start_time": "2020-09-20T15:58:47.989515Z"
    }
   },
   "outputs": [
    {
     "data": {
      "text/plain": [
       "1.0011734377863248"
      ]
     },
     "execution_count": 16,
     "metadata": {},
     "output_type": "execute_result"
    }
   ],
   "source": [
    "(1+.0005*(182-100)/360)*(1+.0006*(365-182)/360)*(1+.0007*(730-365)/360)*(1+.0008*(750-730)/360)"
   ]
  },
  {
   "cell_type": "code",
   "execution_count": 17,
   "metadata": {
    "ExecuteTime": {
     "end_time": "2020-09-20T15:58:48.007420Z",
     "start_time": "2020-09-20T15:58:48.001426Z"
    }
   },
   "outputs": [
    {
     "data": {
      "text/plain": [
       "array([0.        , 0.        , 0.50277778, 0.        ])"
      ]
     },
     "execution_count": 17,
     "metadata": {},
     "output_type": "execute_result"
    }
   ],
   "source": [
    "grad(fwd_wf, argnum=1)(tenors, rates, 365, 546)"
   ]
  },
  {
   "cell_type": "markdown",
   "metadata": {},
   "source": [
    "**Pata OIS**"
   ]
  },
  {
   "cell_type": "code",
   "execution_count": 18,
   "metadata": {
    "ExecuteTime": {
     "end_time": "2020-09-20T15:58:48.017463Z",
     "start_time": "2020-09-20T15:58:48.009213Z"
    }
   },
   "outputs": [],
   "source": [
    "def ois_leg(nocional, fecha_inicio, periodicidad, num_cupones, tenors, rates):\n",
    "    fechas = []\n",
    "    meses = periodicidad.get_months()\n",
    "    for i in range(num_cupones):\n",
    "        fechas.append((fecha_inicio.add_months(i * meses), fecha_inicio.add_months((i + 1) * meses)))\n",
    "    plazos = []\n",
    "    for f in fechas:\n",
    "        plazos.append((float(fecha_inicio.day_diff(f[0])), float(fecha_inicio.day_diff(f[1]))))\n",
    "    cashflows = []\n",
    "    for p in plazos:\n",
    "        wf = fwd_wf(tenors, rates, p[0], p[1])\n",
    "        cashflows.append(nocional * (wf - 1))\n",
    "    cashflows[len(cashflows) - 1] += nocional\n",
    "    return np.array([p[1] for p in plazos]), np.array(cashflows)"
   ]
  },
  {
   "cell_type": "code",
   "execution_count": 19,
   "metadata": {
    "ExecuteTime": {
     "end_time": "2020-09-20T15:58:48.028189Z",
     "start_time": "2020-09-20T15:58:48.019931Z"
    }
   },
   "outputs": [
    {
     "data": {
      "text/plain": [
       "array([181., 365., 546., 730.])"
      ]
     },
     "execution_count": 19,
     "metadata": {},
     "output_type": "execute_result"
    }
   ],
   "source": [
    "p, c = ois_leg(100, Qcf.QCDate(17, 9, 2020), Qcf.Tenor('6M'), 4, tenors, rates)\n",
    "p"
   ]
  },
  {
   "cell_type": "code",
   "execution_count": 20,
   "metadata": {
    "ExecuteTime": {
     "end_time": "2020-09-20T15:58:48.039921Z",
     "start_time": "2020-09-20T15:58:48.033284Z"
    }
   },
   "outputs": [
    {
     "data": {
      "text/plain": [
       "1.0002513888888889"
      ]
     },
     "execution_count": 20,
     "metadata": {},
     "output_type": "execute_result"
    }
   ],
   "source": [
    "fwd_wf(tenors, rates, 0, 181)"
   ]
  },
  {
   "cell_type": "code",
   "execution_count": 21,
   "metadata": {
    "ExecuteTime": {
     "end_time": "2020-09-20T15:58:48.049191Z",
     "start_time": "2020-09-20T15:58:48.042614Z"
    }
   },
   "outputs": [],
   "source": [
    "def pv_ois_leg(interp, disc, nocional, fecha_inicio, periodicidad,\n",
    "               num_cupones, p_tenors, p_rates, d_tenors, d_rates):\n",
    "    plazos, flujos = ois_leg(nocional, fecha_inicio, periodicidad, num_cupones, p_tenors, p_rates)\n",
    "    return present_value_2(interp, disc, plazos, flujos, d_tenors, d_rates)"
   ]
  },
  {
   "cell_type": "code",
   "execution_count": 22,
   "metadata": {
    "ExecuteTime": {
     "end_time": "2020-09-20T15:58:48.058632Z",
     "start_time": "2020-09-20T15:58:48.051583Z"
    }
   },
   "outputs": [],
   "source": [
    "d_tenors = np.array([1.0, 365.0, 730.0])\n",
    "d_rates = np.array([.0005, -0.004463577963415107, -0.004154819164283306])\n",
    "\n",
    "p_tenors = np.array([1.0, 182.0, 365.0])\n",
    "p_rates = np.array([.0005, -0.00055, -0.0006])"
   ]
  },
  {
   "cell_type": "code",
   "execution_count": 23,
   "metadata": {
    "ExecuteTime": {
     "end_time": "2020-09-20T15:58:48.069658Z",
     "start_time": "2020-09-20T15:58:48.061258Z"
    }
   },
   "outputs": [
    {
     "data": {
      "text/plain": [
       "100.77210521335465"
      ]
     },
     "execution_count": 23,
     "metadata": {},
     "output_type": "execute_result"
    }
   ],
   "source": [
    "pv_ois_leg(lin_interpols, dfs, 100, Qcf.QCDate(17, 9, 2020), Qcf.Tenor('6M'), 4, p_tenors, p_rates,\n",
    "          d_tenors, d_rates)"
   ]
  }
 ],
 "metadata": {
  "kernelspec": {
   "display_name": "Python 3",
   "language": "python",
   "name": "python3"
  },
  "language_info": {
   "codemirror_mode": {
    "name": "ipython",
    "version": 3
   },
   "file_extension": ".py",
   "mimetype": "text/x-python",
   "name": "python",
   "nbconvert_exporter": "python",
   "pygments_lexer": "ipython3",
   "version": "3.7.3"
  },
  "toc": {
   "base_numbering": 1,
   "nav_menu": {},
   "number_sections": true,
   "sideBar": true,
   "skip_h1_title": false,
   "title_cell": "Table of Contents",
   "title_sidebar": "Contents",
   "toc_cell": false,
   "toc_position": {},
   "toc_section_display": true,
   "toc_window_display": false
  }
 },
 "nbformat": 4,
 "nbformat_minor": 4
}
